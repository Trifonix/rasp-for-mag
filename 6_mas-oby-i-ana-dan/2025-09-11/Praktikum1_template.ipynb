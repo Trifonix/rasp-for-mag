{
  "cells": [
    {
      "cell_type": "markdown",
      "metadata": {},
      "source": [
        "# Практическое занятие 1 — Шаблон (Jupyter Notebook)\n",
        "\n",
        "**Тема:** Введение в Python-стек для ML. Градиентный спуск для одномерных функций.\n",
        "\n",
        "**Инструкции студенту:**\n",
        "1. Укажите номер своего варианта в ячейке ниже (`VARIANT = ...`).\n",
        "2. Реализуйте функции `f(x)` и `df(x)` **в соответствии с вашим вариантом** (см. памятку с формулами ниже).\n",
        "3. Запустите градиентный спуск, визуализируйте траекторию и выполните дополнительные эксперименты (сравнение шагов/стартов/итераций).\n",
        "4. В конце заполните краткий отчёт (1 абзац)."
      ]
    },
    {
      "cell_type": "markdown",
      "metadata": {},
      "source": [
        "## 1) Настройка окружения"
      ]
    },
    {
      "cell_type": "code",
      "execution_count": null,
      "metadata": {},
      "outputs": [],
      "source": [
        "import numpy as np\n",
        "import matplotlib.pyplot as plt\n",
        "np.set_printoptions(precision=4, suppress=True)\n",
        "print('NumPy', np.__version__)"
      ]
    },
    {
      "cell_type": "markdown",
      "metadata": {},
      "source": [
        "## 2) Параметры варианта"
      ]
    },
    {
      "cell_type": "code",
      "execution_count": null,
      "metadata": {},
      "outputs": [],
      "source": [
        "# Укажите номер своего варианта (1..15)\n",
        "VARIANT = 1  # <-- ИЗМЕНИТЕ НА СВОЙ НОМЕР\n",
        "\n",
        "# Базовые параметры запуска (можете изменять в экспериментах)\n",
        "x0 = 4.0      # начальная точка\n",
        "eta = 0.1     # шаг (learning rate)\n",
        "iters = 50    # число итераций"
      ]
    },
    {
      "cell_type": "markdown",
      "metadata": {},
      "source": [
        "## 3) Памятка по вариантам (формулы)\n",
        "Сопоставьте свой вариант и реализуйте ниже `f(x)` и `df(x)`.\n",
        "\n",
        "**Варианты:**\n",
        "1. $f(x)=(x-3)^2$  \n",
        "2. $f(x)=\\sin x + 0.1x^2$  \n",
        "3. $f(x)=e^{-x} + (x-1)^2$  \n",
        "4. $f(x)=\\ln(1+x^2)$  \n",
        "5. $f(x)=(x+2)^2 + \\cos(2x)$  \n",
        "6. $f(x)=x^4 - 3x^2 + 2$  \n",
        "7. $f(x)=\\cos x + 0.01x^2$  \n",
        "8. $f(x)=|x-1| + 0.1x^2$  *(аккуратно с недифференцируемой точкой)*  \n",
        "9. $f(x)=(x-5)^2 + \\sin(5x)$  \n",
        "10. $f(x)=x^2 + 10\\sin x$  \n",
        "11. $f(x)=(x-2)^2 e^{-0.5x}$  \n",
        "12. $f(x)=(x^2-1)^2$  \n",
        "13. $f(x)=\\ln(1+e^x)$  \n",
        "14. $f(x)=\\sqrt{1+x^2}$  \n",
        "15. $f(x)=x^2 + \\sin^2(3x)$"
      ]
    },
    {
      "cell_type": "markdown",
      "metadata": {},
      "source": [
        "## 4) Реализуйте f(x) и df(x)\n",
        "Заполните функции ниже. Для варианта 8 можно использовать сглаженную абсолютную величину, например $|z|\\approx \\sqrt{z^2+\\varepsilon}$."
      ]
    },
    {
      "cell_type": "code",
      "execution_count": null,
      "metadata": {},
      "outputs": [],
      "source": [
        "def f(x):\n",
        "    \"\"\"Определите функцию для своего варианта.\"\"\"\n",
        "    if VARIANT == 1:\n",
        "        return (x-3)**2\n",
        "    elif VARIANT == 2:\n",
        "        return np.sin(x) + 0.1*x**2\n",
        "    elif VARIANT == 3:\n",
        "        return np.exp(-x) + (x-1)**2\n",
        "    elif VARIANT == 4:\n",
        "        return np.log(1 + x**2)\n",
        "    elif VARIANT == 5:\n",
        "        return (x+2)**2 + np.cos(2*x)\n",
        "    elif VARIANT == 6:\n",
        "        return x**4 - 3*x**2 + 2\n",
        "    elif VARIANT == 7:\n",
        "        return np.cos(x) + 0.01*x**2\n",
        "    elif VARIANT == 8:\n",
        "        eps = 1e-6\n",
        "        return np.sqrt((x-1)**2 + eps) + 0.1*x**2\n",
        "    elif VARIANT == 9:\n",
        "        return (x-5)**2 + np.sin(5*x)\n",
        "    elif VARIANT == 10:\n",
        "        return x**2 + 10*np.sin(x)\n",
        "    elif VARIANT == 11:\n",
        "        return (x-2)**2 * np.exp(-0.5*x)\n",
        "    elif VARIANT == 12:\n",
        "        return (x**2 - 1)**2\n",
        "    elif VARIANT == 13:\n",
        "        return np.log1p(np.exp(x))\n",
        "    elif VARIANT == 14:\n",
        "        return np.sqrt(1 + x**2)\n",
        "    elif VARIANT == 15:\n",
        "        return x**2 + np.sin(3*x)**2\n",
        "    else:\n",
        "        raise ValueError('Неверно задан VARIANT')\n",
        "\n",
        "def df(x):\n",
        "    \"\"\"Градиент (производная) для выбранной функции.\"\"\"\n",
        "    if VARIANT == 1:\n",
        "        return 2*(x-3)\n",
        "    elif VARIANT == 2:\n",
        "        return np.cos(x) + 0.2*x\n",
        "    elif VARIANT == 3:\n",
        "        return -np.exp(-x) + 2*(x-1)\n",
        "    elif VARIANT == 4:\n",
        "        return (2*x) / (1 + x**2)\n",
        "    elif VARIANT == 5:\n",
        "        return 2*(x+2) - 2*np.sin(2*x)\n",
        "    elif VARIANT == 6:\n",
        "        return 4*x**3 - 6*x\n",
        "    elif VARIANT == 7:\n",
        "        return -np.sin(x) + 0.02*x\n",
        "    elif VARIANT == 8:\n",
        "        eps = 1e-6\n",
        "        return (x-1)/np.sqrt((x-1)**2 + eps) + 0.2*x\n",
        "    elif VARIANT == 9:\n",
        "        return 2*(x-5) + 5*np.cos(5*x)\n",
        "    elif VARIANT == 10:\n",
        "        return 2*x + 10*np.cos(x)\n",
        "    elif VARIANT == 11:\n",
        "        return 2*(x-2)*np.exp(-0.5*x) + (x-2)**2*(-0.5)*np.exp(-0.5*x)\n",
        "    elif VARIANT == 12:\n",
        "        return 4*x*(x**2 - 1)\n",
        "    elif VARIANT == 13:\n",
        "        return 1/(1 + np.exp(-x))  # сигмоида\n",
        "    elif VARIANT == 14:\n",
        "        return x/np.sqrt(1 + x**2)\n",
        "    elif VARIANT == 15:\n",
        "        return 2*x + 2*np.sin(3*x)*3*np.cos(3*x)\n",
        "    else:\n",
        "        raise ValueError('Неверно задан VARIANT')"
      ]
    },
    {
      "cell_type": "markdown",
      "metadata": {},
      "source": [
        "## 5) Реализация градиентного спуска и визуализация"
      ]
    },
    {
      "cell_type": "code",
      "execution_count": null,
      "metadata": {},
      "outputs": [],
      "source": [
        "def gradient_descent(x0, eta=0.1, iters=50):\n",
        "    x = float(x0)\n",
        "    traj = [x]\n",
        "    for k in range(iters):\n",
        "        x = x - eta*df(x)\n",
        "        traj.append(x)\n",
        "    return np.array(traj)\n",
        "\n",
        "traj = gradient_descent(x0=x0, eta=eta, iters=iters)\n",
        "\n",
        "# Визуализация траектории\n",
        "xs = np.linspace(min(min(traj)-2, -6), max(max(traj)+2, 6), 600)\n",
        "plt.figure(figsize=(6,4))\n",
        "plt.plot(xs, f(xs))\n",
        "plt.plot(traj, f(traj), 'o-')\n",
        "plt.title(f'Gradient Descent (variant {VARIANT})')\n",
        "plt.xlabel('x'); plt.ylabel('f(x)'); plt.grid(True)\n",
        "plt.show()\n",
        "\n",
        "print('Последнее значение x:', traj[-1])"
      ]
    },
    {
      "cell_type": "markdown",
      "metadata": {},
      "source": [
        "## 6) Эксперименты\n",
        "Изучите влияние шага обучения, числа итераций и начальной точки."
      ]
    },
    {
      "cell_type": "code",
      "execution_count": null,
      "metadata": {},
      "outputs": [],
      "source": [
        "def run_and_plot(x0_list=(4.0,), eta_list=(0.01, 0.1, 0.5), iters=50):\n",
        "    xs = np.linspace(-8, 8, 1000)\n",
        "    plt.figure(figsize=(6,4))\n",
        "    plt.plot(xs, f(xs), alpha=0.7)\n",
        "    for x0 in x0_list:\n",
        "        for lr in eta_list:\n",
        "            traj = gradient_descent(x0, lr, iters)\n",
        "            plt.plot(traj, f(traj), 'o-', label=f'x0={x0}, eta={lr}')\n",
        "    plt.title('Влияние шага / старта')\n",
        "    plt.xlabel('x'); plt.ylabel('f(x)'); plt.grid(True)\n",
        "    plt.legend()\n",
        "    plt.show()\n",
        "\n",
        "# Пример запуска эксперимента\n",
        "run_and_plot(x0_list=(x0, ), eta_list=(0.01, 0.1, 0.5), iters=iters)"
      ]
    },
    {
      "cell_type": "markdown",
      "metadata": {},
      "source": [
        "## 7) (опционально) Backtracking line search (Armijo)\n",
        "Реализуйте адаптивный шаг для стабилизации сходимости."
      ]
    },
    {
      "cell_type": "code",
      "execution_count": null,
      "metadata": {},
      "outputs": [],
      "source": [
        "def gd_backtracking(x0, eta0=1.0, iters=50, beta=0.5, sigma=1e-4):\n",
        "    x = float(x0)\n",
        "    traj = [x]\n",
        "    for k in range(iters):\n",
        "        g = df(x)\n",
        "        eta = eta0\n",
        "        # Armijo rule\n",
        "        while f(x - eta*g) > f(x) - sigma*eta*(g**2):\n",
        "            eta *= beta\n",
        "            if eta < 1e-12:\n",
        "                break\n",
        "        x = x - eta*g\n",
        "        traj.append(x)\n",
        "    return np.array(traj)\n",
        "\n",
        "# Пример запуска\n",
        "traj_bt = gd_backtracking(x0=x0, eta0=1.0, iters=iters)\n",
        "xs = np.linspace(min(min(traj_bt)-2, -6), max(max(traj_bt)+2, 6), 600)\n",
        "plt.figure(figsize=(6,4))\n",
        "plt.plot(xs, f(xs))\n",
        "plt.plot(traj_bt, f(traj_bt), 'o-')\n",
        "plt.title('GD с backtracking (Armijo)')\n",
        "plt.grid(True)\n",
        "plt.show()"
      ]
    },
    {
      "cell_type": "markdown",
      "metadata": {},
      "source": [
        "## 8) Краткий отчёт\n",
        "Опишите наблюдения: сходимость, влияние шага, начальной точки, особенности функции (локальные экстремумы, недифференцируемость и т.д.)."
      ]
    },
    {
      "cell_type": "markdown",
      "metadata": {},
      "source": [
        "**Ответ (1 абзац):**\n",
        "\n",
        "_Заполните здесь._"
      ]
    }
  ],
  "metadata": {
    "kernelspec": {
      "display_name": "Python 3",
      "language": "python",
      "name": "python3"
    },
    "language_info": {
      "name": "python",
      "version": "3.9"
    }
  },
  "nbformat": 4,
  "nbformat_minor": 5
}